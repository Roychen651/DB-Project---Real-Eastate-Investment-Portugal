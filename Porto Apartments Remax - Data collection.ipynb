{
 "cells": [
  {
   "cell_type": "markdown",
   "id": "0f750d97",
   "metadata": {},
   "source": [
    "\n",
    "\n",
    "<font face=\"Lucida Handwriting\n",
    "\" size=6 color='#CDB79E'> Libraries import <font>\n"
   ]
  },
  {
   "cell_type": "code",
   "execution_count": 1,
   "id": "6f8a5952",
   "metadata": {},
   "outputs": [],
   "source": [
    "from selenium import webdriver\n",
    "import requests\n",
    "from bs4 import BeautifulSoup\n",
    "from selenium.webdriver.common.by import By\n",
    "from webdriver_manager.chrome import ChromeDriverManager\n",
    "import pandas as pd\n",
    "from selenium.webdriver.common.keys import Keys\n",
    "from selenium.webdriver.support.ui import WebDriverWait\n",
    "from selenium.webdriver.support import expected_conditions as EC\n",
    "import time"
   ]
  },
  {
   "cell_type": "markdown",
   "id": "a3876b21",
   "metadata": {},
   "source": [
    "<font face=\"Lucida Handwriting\n",
    "\" size=6 color='#CDB79E'>Data Collection<font>\n"
   ]
  },
  {
   "cell_type": "code",
   "execution_count": 3,
   "id": "96bb6343",
   "metadata": {},
   "outputs": [
    {
     "name": "stderr",
     "output_type": "stream",
     "text": [
      "C:\\Users\\roych\\AppData\\Local\\Temp\\ipykernel_1064\\1565978283.py:3: DeprecationWarning: executable_path has been deprecated, please pass in a Service object\n",
      "  driver = webdriver.Chrome(ChromeDriverManager().install())\n"
     ]
    }
   ],
   "source": [
    "# getting \"RENT\" listings in Porto from Remax Portogul (https://www.remax.pt/en/)\n",
    "\n",
    "driver = webdriver.Chrome(ChromeDriverManager().install())\n",
    "property_list = []\n",
    "\n",
    "last_page = 17 #340 houses for rent, last page is 17 (340/20 = 17)\n",
    "pages = list(range(1, last_page+1))\n",
    "\n",
    "url = \"https://www.remax.pt/en/rent?searchQueryState=%7B%22regionName%22:%22Porto%22,%22businessType%22:2,%22page%22:1,%22regionID%22:%2278%22,%22regionType%22:%22Region1ID%22,%22sort%22:%7B%22fieldToSort%22:%22ContractDate%22,%22order%22:1%7D,%22mapIsOpen%22:false,%22regionCoordinates%22:%7B%22latitude%22:41.21011650909249,%22longitude%22:-8.449367332491727%7D,%22regionZoom%22:9,%22prn%22:%22Porto%22%7D\"\n",
    "\n",
    "\n",
    "##\"https://www.remax.pt/en/rent?searchQueryState={{%7B%22regionName%22:%22Porto%22,%22businessType%22:2,\\\n",
    "##%22page%22:{},%22regionID%22:%2278%22,%22regionType%22:%22Region1ID%22,%22sort%22:{{%7B%22fieldToSort%22:\\\n",
    "##%22ContractDate%22,%22order%22:1}},%22mapIsOpen%22:false,%22regionCoordinates%22\\\n",
    "##:{{%22latitude%22:41.21011650909249,%22longitude%22:-8.449367332491727}},%22regionZoom%22:9,%22prn%22:%22Porto%22%7D}}\"\n",
    "\n",
    "for page in pages:\n",
    "    url_page = url.format(page)\n",
    "    driver.get(url_page)\n",
    "    time.sleep(15)\n",
    "    content = driver.page_source\n",
    "    soup = BeautifulSoup(content, features='html.parser')\n",
    "\n",
    "    for element in soup.findAll('div', attrs={'class': 'col-12 col-sm-6 col-md-6 col-lg-4 col-xl-3 result'}):\n",
    "        prop_item ={}\n",
    "        prop_item['Price'] = element.find('p', attrs={'class': 'listing-price'}).text     \n",
    "        prop_item['Address'] = element.find('h2', attrs={'class': 'listing-address'}).text    \n",
    "        try:\n",
    "            prop_item['Prop_type'] = element.find('li', attrs={'class': 'listing-type'}).text\n",
    "        except AttributeError: prop_item['Prop_type'] =\"\"    \n",
    "        prop_item['Size'] = element.find('li', attrs={'class': 'listing-area'}).text\n",
    "        prop_item['Bath'] = element.find('li', attrs={'class': 'listing-bathroom'}).text\n",
    "        prop_item['Bed'] = element.find('li', attrs={'class': 'listing-bedroom'}).text\n",
    "\n",
    "        property_list.append(prop_item)\n",
    "    \n",
    "driver.quit()\n",
    "\n",
    "df_rent = pd.DataFrame(property_list)\n",
    "df_rent.to_csv(r'porto_district_rent.csv', index = False, header=True) # saving as csv"
   ]
  },
  {
   "cell_type": "code",
   "execution_count": 4,
   "id": "99e47800",
   "metadata": {},
   "outputs": [
    {
     "name": "stdout",
     "output_type": "stream",
     "text": [
      "<class 'pandas.core.frame.DataFrame'>\n",
      "RangeIndex: 340 entries, 0 to 339\n",
      "Data columns (total 6 columns):\n",
      " #   Column     Non-Null Count  Dtype \n",
      "---  ------     --------------  ----- \n",
      " 0   Price      340 non-null    object\n",
      " 1   Address    340 non-null    object\n",
      " 2   Prop_type  340 non-null    object\n",
      " 3   Size       340 non-null    object\n",
      " 4   Bath       340 non-null    object\n",
      " 5   Bed        340 non-null    object\n",
      "dtypes: object(6)\n",
      "memory usage: 16.1+ KB\n"
     ]
    }
   ],
   "source": [
    "df_rent.info()"
   ]
  },
  {
   "cell_type": "code",
   "execution_count": 5,
   "id": "b65b1740",
   "metadata": {},
   "outputs": [
    {
     "name": "stderr",
     "output_type": "stream",
     "text": [
      "C:\\Users\\roych\\AppData\\Local\\Temp\\ipykernel_1064\\1903298323.py:4: DeprecationWarning: executable_path has been deprecated, please pass in a Service object\n",
      "  driver = webdriver.Chrome(ChromeDriverManager().install())\n"
     ]
    }
   ],
   "source": [
    "# code for getting \"BUY\" listings - HOUSES\n",
    "# found out page only goes to 100, so cannot scrap all at once => HOUSES only\n",
    "\n",
    "driver = webdriver.Chrome(ChromeDriverManager().install())\n",
    "property_list = []\n",
    "\n",
    "last_page = 65 #1288 houses for buy, last page is 65 (1288/20 = 64.4)\n",
    "pages = list(range(1, last_page+1))\n",
    "\n",
    "url = 'https://www.remax.pt/en/buy?searchQueryState=%7B%22regionName%22:%22Porto%22,%22businessType%22:1,%22page%22:1,%22regionID%22:%2278%22,%22regionType%22:%22Region1ID%22,%22sort%22:%7B%22fieldToSort%22:%22ContractDate%22,%22order%22:1%7D,%22mapIsOpen%22:false,%22regionCoordinates%22:%7B%22latitude%22:41.21011650909249,%22longitude%22:-8.449367332491727%7D,%22regionZoom%22:9,%22prn%22:%22Porto%22,%22listingClass%22:1,%22mapScroll%22:false,%22listingTypes%22:%5B%2211%22%5D%7D'\n",
    "\n",
    "for page in pages:\n",
    "    url_page = url.format(page)\n",
    "    driver.get(url_page)\n",
    "    time.sleep(15)\n",
    "    content = driver.page_source\n",
    "    soup = BeautifulSoup(content, features='html.parser')\n",
    "\n",
    "    for element in soup.findAll('div', attrs={'class': 'col-12 col-sm-6 col-md-6 col-lg-4 col-xl-3 result'}):\n",
    "        prop_item ={}\n",
    "        prop_item['Price'] = element.find('p', attrs={'class': 'listing-price'}).text     \n",
    "        prop_item['Address'] = element.find('h2', attrs={'class': 'listing-address'}).text    \n",
    "        try:\n",
    "            prop_item['Prop_type'] = element.find('li', attrs={'class': 'listing-type'}).text\n",
    "        except AttributeError: prop_item['Prop_type'] =\"\"    \n",
    "        prop_item['Size'] = element.find('li', attrs={'class': 'listing-area'}).text\n",
    "        prop_item['Bath'] = element.find('li', attrs={'class': 'listing-bathroom'}).text\n",
    "        prop_item['Bed'] = element.find('li', attrs={'class': 'listing-bedroom'}).text\n",
    "\n",
    "        property_list.append(prop_item)\n",
    "    \n",
    "driver.quit()\n",
    "\n",
    "df_buy_only_houses= pd.DataFrame(property_list)"
   ]
  },
  {
   "cell_type": "code",
   "execution_count": 7,
   "id": "23cdbfc4",
   "metadata": {},
   "outputs": [
    {
     "name": "stdout",
     "output_type": "stream",
     "text": [
      "<class 'pandas.core.frame.DataFrame'>\n",
      "RangeIndex: 1280 entries, 0 to 1279\n",
      "Data columns (total 6 columns):\n",
      " #   Column     Non-Null Count  Dtype \n",
      "---  ------     --------------  ----- \n",
      " 0   Price      1280 non-null   object\n",
      " 1   Address    1280 non-null   object\n",
      " 2   Prop_type  1280 non-null   object\n",
      " 3   Size       1280 non-null   object\n",
      " 4   Bath       1280 non-null   object\n",
      " 5   Bed        1280 non-null   object\n",
      "dtypes: object(6)\n",
      "memory usage: 60.1+ KB\n"
     ]
    }
   ],
   "source": [
    "df_buy_only_houses.info()"
   ]
  },
  {
   "cell_type": "code",
   "execution_count": 8,
   "id": "16470b05",
   "metadata": {},
   "outputs": [
    {
     "name": "stderr",
     "output_type": "stream",
     "text": [
      "[WDM] - Downloading: 100%|████████████████████████████████████████████████████████| 6.58M/6.58M [00:00<00:00, 7.30MB/s]\n",
      "C:\\Users\\roych\\AppData\\Local\\Temp\\ipykernel_1064\\1156091923.py:5: DeprecationWarning: executable_path has been deprecated, please pass in a Service object\n",
      "  driver = webdriver.Chrome(ChromeDriverManager().install())\n"
     ]
    }
   ],
   "source": [
    "# code for getting \"BUY\" listings - CONDOS/APTS part 1\n",
    "# page only goes to 100, so cannot scrap all at once\n",
    "# 0 < price < 250,000 - 1011 properties\n",
    "\n",
    "driver = webdriver.Chrome(ChromeDriverManager().install())\n",
    "property_list = []\n",
    "\n",
    "last_page = 51 #1020 houses for rent, last page is 51 (1020/20 = 51)\n",
    "pages = list(range(1, last_page+1))\n",
    "\n",
    "url = 'https://www.remax.pt/en/buy?searchQueryState=%7B%22regionName%22:%22Porto%22,%22businessType%22:1,%22page%22:1,%22regionID%22:%2278%22,%22regionType%22:%22Region1ID%22,%22sort%22:%7B%22fieldToSort%22:%22ContractDate%22,%22order%22:1%7D,%22mapIsOpen%22:false,%22regionCoordinates%22:%7B%22latitude%22:41.21011650909249,%22longitude%22:-8.449367332491727%7D,%22regionZoom%22:9,%22prn%22:%22Porto%22,%22listingClass%22:1,%22mapScroll%22:false,%22listingTypes%22:%5B%221%22%5D,%22price%22:%7B%22min%22:0,%22max%22:250000%7D%7D'\n",
    "\n",
    "for page in pages:\n",
    "    url_page = url.format(page)\n",
    "    driver.get(url_page)\n",
    "    time.sleep(15)\n",
    "    content = driver.page_source\n",
    "    soup = BeautifulSoup(content, features='html.parser')\n",
    "\n",
    "    for element in soup.findAll('div', attrs={'class': 'col-12 col-sm-6 col-md-6 col-lg-4 col-xl-3 result'}):\n",
    "        prop_item ={}\n",
    "        prop_item['Price'] = element.find('p', attrs={'class': 'listing-price'}).text     \n",
    "        prop_item['Address'] = element.find('h2', attrs={'class': 'listing-address'}).text    \n",
    "        try:\n",
    "            prop_item['Prop_type'] = element.find('li', attrs={'class': 'listing-type'}).text\n",
    "        except AttributeError: prop_item['Prop_type'] =\"\"    \n",
    "        prop_item['Size'] = element.find('li', attrs={'class': 'listing-area'}).text\n",
    "        prop_item['Bath'] = element.find('li', attrs={'class': 'listing-bathroom'}).text\n",
    "        prop_item['Bed'] = element.find('li', attrs={'class': 'listing-bedroom'}).text\n",
    "\n",
    "        property_list.append(prop_item)\n",
    "    \n",
    "driver.quit()\n",
    "\n",
    "df_buy_Con_Aprt_lessThan250 = pd.DataFrame(property_list)\n"
   ]
  },
  {
   "cell_type": "code",
   "execution_count": 9,
   "id": "0331641f",
   "metadata": {},
   "outputs": [
    {
     "name": "stdout",
     "output_type": "stream",
     "text": [
      "<class 'pandas.core.frame.DataFrame'>\n",
      "RangeIndex: 1020 entries, 0 to 1019\n",
      "Data columns (total 6 columns):\n",
      " #   Column     Non-Null Count  Dtype \n",
      "---  ------     --------------  ----- \n",
      " 0   Price      1020 non-null   object\n",
      " 1   Address    1020 non-null   object\n",
      " 2   Prop_type  1020 non-null   object\n",
      " 3   Size       1020 non-null   object\n",
      " 4   Bath       1020 non-null   object\n",
      " 5   Bed        1020 non-null   object\n",
      "dtypes: object(6)\n",
      "memory usage: 47.9+ KB\n"
     ]
    }
   ],
   "source": [
    "df_buy_Con_Aprt_lessThan250.info()"
   ]
  },
  {
   "cell_type": "code",
   "execution_count": 12,
   "id": "63c5cadf",
   "metadata": {},
   "outputs": [
    {
     "name": "stderr",
     "output_type": "stream",
     "text": [
      "C:\\Users\\roych\\AppData\\Local\\Temp\\ipykernel_1064\\3130884885.py:5: DeprecationWarning: executable_path has been deprecated, please pass in a Service object\n",
      "  driver = webdriver.Chrome(ChromeDriverManager().install())\n"
     ]
    }
   ],
   "source": [
    "# code for getting for buy listings - CONDOS/APTS part 2\n",
    "# page only goes to 100, so cannot scrap all at once\n",
    "# 250,000 < price < 500,000 - 534 properties\n",
    "\n",
    "driver = webdriver.Chrome(ChromeDriverManager().install())\n",
    "property_list = []\n",
    "\n",
    "last_page = 24 #534 houses for rent, last page is 27 (534/20 = 26.7)\n",
    "pages = list(range(1, last_page+1))\n",
    "\n",
    "url = 'https://www.remax.pt/en/buy?searchQueryState=%7B%22regionName%22:%22Porto%22,%22businessType%22:1,%22page%22:1,%22regionID%22:%2278%22,%22regionType%22:%22Region1ID%22,%22sort%22:%7B%22fieldToSort%22:%22ContractDate%22,%22order%22:1%7D,%22mapIsOpen%22:false,%22regionCoordinates%22:%7B%22latitude%22:41.21011650909249,%22longitude%22:-8.449367332491727%7D,%22regionZoom%22:9,%22prn%22:%22Porto%22,%22listingClass%22:1,%22mapScroll%22:false,%22listingTypes%22:%5B%221%22%5D,%22price%22:%7B%22min%22:250001,%22max%22:500000%7D%7D'\n",
    "\n",
    "for page in pages:\n",
    "    url_page = url.format(page)\n",
    "    driver.get(url_page)\n",
    "    time.sleep(15)\n",
    "    content = driver.page_source\n",
    "    soup = BeautifulSoup(content, features='html.parser')\n",
    "\n",
    "    for element in soup.findAll('div', attrs={'class': 'col-12 col-sm-6 col-md-6 col-lg-4 col-xl-3 result'}):\n",
    "        prop_item ={}\n",
    "        prop_item['Price'] = element.find('p', attrs={'class': 'listing-price'}).text     \n",
    "        prop_item['Address'] = element.find('h2', attrs={'class': 'listing-address'}).text    \n",
    "        try:\n",
    "            prop_item['Prop_type'] = element.find('li', attrs={'class': 'listing-type'}).text\n",
    "        except AttributeError: prop_item['Prop_type'] =\"\"    \n",
    "        prop_item['Size'] = element.find('li', attrs={'class': 'listing-area'}).text\n",
    "        prop_item['Bath'] = element.find('li', attrs={'class': 'listing-bathroom'}).text\n",
    "        prop_item['Bed'] = element.find('li', attrs={'class': 'listing-bedroom'}).text\n",
    "\n",
    "        property_list.append(prop_item)\n",
    "    \n",
    "driver.quit()\n",
    "\n",
    "df_buy_Con_Aprt_250K_500K = pd.DataFrame(property_list)\n"
   ]
  },
  {
   "cell_type": "code",
   "execution_count": 13,
   "id": "2563be99",
   "metadata": {},
   "outputs": [
    {
     "name": "stdout",
     "output_type": "stream",
     "text": [
      "<class 'pandas.core.frame.DataFrame'>\n",
      "RangeIndex: 480 entries, 0 to 479\n",
      "Data columns (total 6 columns):\n",
      " #   Column     Non-Null Count  Dtype \n",
      "---  ------     --------------  ----- \n",
      " 0   Price      480 non-null    object\n",
      " 1   Address    480 non-null    object\n",
      " 2   Prop_type  480 non-null    object\n",
      " 3   Size       480 non-null    object\n",
      " 4   Bath       480 non-null    object\n",
      " 5   Bed        480 non-null    object\n",
      "dtypes: object(6)\n",
      "memory usage: 22.6+ KB\n"
     ]
    }
   ],
   "source": [
    "df_buy_Con_Aprt_250K_500K.info()"
   ]
  },
  {
   "cell_type": "code",
   "execution_count": 14,
   "id": "0abc197a",
   "metadata": {},
   "outputs": [
    {
     "name": "stderr",
     "output_type": "stream",
     "text": [
      "C:\\Users\\roych\\AppData\\Local\\Temp\\ipykernel_1064\\3772992792.py:5: DeprecationWarning: executable_path has been deprecated, please pass in a Service object\n",
      "  driver = webdriver.Chrome(ChromeDriverManager().install())\n"
     ]
    }
   ],
   "source": [
    "# code for getting for buy listings - CONDS/APTS part 3\n",
    "# page only goes to 100, so cannot scrap all at once\n",
    "# price > 500,000 - 248 properties\n",
    "\n",
    "driver = webdriver.Chrome(ChromeDriverManager().install())\n",
    "property_list = []\n",
    "\n",
    "last_page = 13 #248 houses for rent, last page is 13 (248/20 = 12.4)\n",
    "pages = list(range(1, last_page+1))\n",
    "\n",
    "url = 'https://www.remax.pt/en/buy?searchQueryState=%7B%22regionName%22:%22Porto%22,%22businessType%22:1,%22page%22:1,%22regionID%22:%2278%22,%22regionType%22:%22Region1ID%22,%22sort%22:%7B%22fieldToSort%22:%22ContractDate%22,%22order%22:1%7D,%22mapIsOpen%22:false,%22regionCoordinates%22:%7B%22latitude%22:41.21011650909249,%22longitude%22:-8.449367332491727%7D,%22regionZoom%22:9,%22prn%22:%22Porto%22,%22listingClass%22:1,%22mapScroll%22:false,%22listingTypes%22:%5B%221%22%5D,%22price%22:%7B%22min%22:500001,%22max%22:null%7D%7D'\n",
    "\n",
    "for page in pages:\n",
    "    url_page = url.format(page)\n",
    "    driver.get(url_page)\n",
    "    time.sleep(15)\n",
    "    content = driver.page_source\n",
    "    soup = BeautifulSoup(content, features='html.parser')\n",
    "\n",
    "    for element in soup.findAll('div', attrs={'class': 'col-12 col-sm-6 col-md-6 col-lg-4 col-xl-3 result'}):\n",
    "        prop_item ={}\n",
    "        prop_item['Price'] = element.find('p', attrs={'class': 'listing-price'}).text     \n",
    "        prop_item['Address'] = element.find('h2', attrs={'class': 'listing-address'}).text    \n",
    "        try:\n",
    "            prop_item['Prop_type'] = element.find('li', attrs={'class': 'listing-type'}).text\n",
    "        except AttributeError: prop_item['Prop_type'] =\"\"    \n",
    "        prop_item['Size'] = element.find('li', attrs={'class': 'listing-area'}).text\n",
    "        prop_item['Bath'] = element.find('li', attrs={'class': 'listing-bathroom'}).text\n",
    "        prop_item['Bed'] = element.find('li', attrs={'class': 'listing-bedroom'}).text\n",
    "\n",
    "        property_list.append(prop_item)\n",
    "    \n",
    "driver.quit()\n",
    "\n",
    "df_buy_Aprt_Above_500K = pd.DataFrame(property_list)\n"
   ]
  },
  {
   "cell_type": "code",
   "execution_count": 15,
   "id": "11985894",
   "metadata": {
    "scrolled": true
   },
   "outputs": [
    {
     "name": "stdout",
     "output_type": "stream",
     "text": [
      "<class 'pandas.core.frame.DataFrame'>\n",
      "RangeIndex: 260 entries, 0 to 259\n",
      "Data columns (total 6 columns):\n",
      " #   Column     Non-Null Count  Dtype \n",
      "---  ------     --------------  ----- \n",
      " 0   Price      260 non-null    object\n",
      " 1   Address    260 non-null    object\n",
      " 2   Prop_type  260 non-null    object\n",
      " 3   Size       260 non-null    object\n",
      " 4   Bath       260 non-null    object\n",
      " 5   Bed        260 non-null    object\n",
      "dtypes: object(6)\n",
      "memory usage: 12.3+ KB\n"
     ]
    }
   ],
   "source": [
    "df_buy_Aprt_Above_500K.info()"
   ]
  },
  {
   "cell_type": "markdown",
   "id": "12328b79",
   "metadata": {},
   "source": [
    "<font face=\"Lucida Handwriting\n",
    "\" size=4 color='#CDB79E'> Connecting all the data into one \n",
    "    CSV file <font>\n"
   ]
  },
  {
   "cell_type": "code",
   "execution_count": 16,
   "id": "3a53840c",
   "metadata": {},
   "outputs": [],
   "source": [
    "frames = [df_buy_only_houses, df_buy_Con_Aprt_lessThan250,df_buy_Con_Aprt_250K_500K, df_buy_Aprt_Above_500K ]\n",
    "df_buy = pd.concat(frames)\n",
    "df_buy.to_csv(r'Porto_Buy.csv', index = False, header=True) #saving as csv"
   ]
  },
  {
   "cell_type": "code",
   "execution_count": 17,
   "id": "d14a7786",
   "metadata": {},
   "outputs": [
    {
     "name": "stdout",
     "output_type": "stream",
     "text": [
      "<class 'pandas.core.frame.DataFrame'>\n",
      "Int64Index: 3040 entries, 0 to 259\n",
      "Data columns (total 6 columns):\n",
      " #   Column     Non-Null Count  Dtype \n",
      "---  ------     --------------  ----- \n",
      " 0   Price      3040 non-null   object\n",
      " 1   Address    3040 non-null   object\n",
      " 2   Prop_type  3040 non-null   object\n",
      " 3   Size       3040 non-null   object\n",
      " 4   Bath       3040 non-null   object\n",
      " 5   Bed        3040 non-null   object\n",
      "dtypes: object(6)\n",
      "memory usage: 166.2+ KB\n"
     ]
    }
   ],
   "source": [
    "df_buy.info()"
   ]
  }
 ],
 "metadata": {
  "kernelspec": {
   "display_name": "Python 3 (ipykernel)",
   "language": "python",
   "name": "python3"
  },
  "language_info": {
   "codemirror_mode": {
    "name": "ipython",
    "version": 3
   },
   "file_extension": ".py",
   "mimetype": "text/x-python",
   "name": "python",
   "nbconvert_exporter": "python",
   "pygments_lexer": "ipython3",
   "version": "3.9.12"
  }
 },
 "nbformat": 4,
 "nbformat_minor": 5
}
