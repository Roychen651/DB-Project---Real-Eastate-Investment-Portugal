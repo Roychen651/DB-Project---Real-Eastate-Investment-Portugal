{
 "cells": [
  {
   "cell_type": "code",
   "execution_count": 1,
   "id": "54416689",
   "metadata": {},
   "outputs": [],
   "source": [
    "import pandas as pd\n",
    "import matplotlib.pyplot as plt\n",
    "import seaborn as sns\n",
    "import numpy as np"
   ]
  },
  {
   "cell_type": "code",
   "execution_count": 2,
   "id": "da7e4cbc",
   "metadata": {},
   "outputs": [],
   "source": [
    "df = pd.read_csv(\"dataf_final.csv\")"
   ]
  },
  {
   "cell_type": "code",
   "execution_count": 3,
   "id": "6044cd8b",
   "metadata": {},
   "outputs": [
    {
     "data": {
      "text/html": [
       "<div>\n",
       "<style scoped>\n",
       "    .dataframe tbody tr th:only-of-type {\n",
       "        vertical-align: middle;\n",
       "    }\n",
       "\n",
       "    .dataframe tbody tr th {\n",
       "        vertical-align: top;\n",
       "    }\n",
       "\n",
       "    .dataframe thead th {\n",
       "        text-align: right;\n",
       "    }\n",
       "</style>\n",
       "<table border=\"1\" class=\"dataframe\">\n",
       "  <thead>\n",
       "    <tr style=\"text-align: right;\">\n",
       "      <th></th>\n",
       "      <th>Price</th>\n",
       "      <th>Prop_type</th>\n",
       "      <th>Size</th>\n",
       "      <th>Bath</th>\n",
       "      <th>Bed</th>\n",
       "      <th>City</th>\n",
       "      <th>Division</th>\n",
       "    </tr>\n",
       "  </thead>\n",
       "  <tbody>\n",
       "    <tr>\n",
       "      <th>0</th>\n",
       "      <td>350000.0</td>\n",
       "      <td>1</td>\n",
       "      <td>233.0</td>\n",
       "      <td>4.0</td>\n",
       "      <td>4.0</td>\n",
       "      <td>Maia</td>\n",
       "      <td>Castêlo da Maia</td>\n",
       "    </tr>\n",
       "    <tr>\n",
       "      <th>1</th>\n",
       "      <td>98000.0</td>\n",
       "      <td>1</td>\n",
       "      <td>60.0</td>\n",
       "      <td>1.0</td>\n",
       "      <td>2.0</td>\n",
       "      <td>Paredes</td>\n",
       "      <td>Lordelo</td>\n",
       "    </tr>\n",
       "    <tr>\n",
       "      <th>2</th>\n",
       "      <td>300000.0</td>\n",
       "      <td>1</td>\n",
       "      <td>642.0</td>\n",
       "      <td>3.0</td>\n",
       "      <td>4.0</td>\n",
       "      <td>Felgueiras</td>\n",
       "      <td>Vila Fria e Vizela (São Jorge)</td>\n",
       "    </tr>\n",
       "    <tr>\n",
       "      <th>3</th>\n",
       "      <td>199900.0</td>\n",
       "      <td>1</td>\n",
       "      <td>188.0</td>\n",
       "      <td>3.0</td>\n",
       "      <td>3.0</td>\n",
       "      <td>Amarante</td>\n",
       "      <td>Telões</td>\n",
       "    </tr>\n",
       "    <tr>\n",
       "      <th>4</th>\n",
       "      <td>235000.0</td>\n",
       "      <td>1</td>\n",
       "      <td>200.0</td>\n",
       "      <td>2.0</td>\n",
       "      <td>3.0</td>\n",
       "      <td>Marco de Canaveses</td>\n",
       "      <td>Tabuado</td>\n",
       "    </tr>\n",
       "  </tbody>\n",
       "</table>\n",
       "</div>"
      ],
      "text/plain": [
       "      Price  Prop_type   Size  Bath  Bed                City  \\\n",
       "0  350000.0          1  233.0   4.0  4.0                Maia   \n",
       "1   98000.0          1   60.0   1.0  2.0             Paredes   \n",
       "2  300000.0          1  642.0   3.0  4.0          Felgueiras   \n",
       "3  199900.0          1  188.0   3.0  3.0            Amarante   \n",
       "4  235000.0          1  200.0   2.0  3.0  Marco de Canaveses   \n",
       "\n",
       "                            Division  \n",
       "0                  Castêlo da Maia    \n",
       "1                          Lordelo    \n",
       "2   Vila Fria e Vizela (São Jorge)    \n",
       "3                           Telões    \n",
       "4                          Tabuado    "
      ]
     },
     "execution_count": 3,
     "metadata": {},
     "output_type": "execute_result"
    }
   ],
   "source": [
    "df.head()"
   ]
  },
  {
   "cell_type": "code",
   "execution_count": 4,
   "id": "cb0ef048",
   "metadata": {},
   "outputs": [
    {
     "name": "stdout",
     "output_type": "stream",
     "text": [
      "<class 'pandas.core.frame.DataFrame'>\n",
      "RangeIndex: 11280 entries, 0 to 11279\n",
      "Data columns (total 7 columns):\n",
      " #   Column     Non-Null Count  Dtype  \n",
      "---  ------     --------------  -----  \n",
      " 0   Price      11280 non-null  float64\n",
      " 1   Prop_type  11280 non-null  int64  \n",
      " 2   Size       11280 non-null  float64\n",
      " 3   Bath       11280 non-null  float64\n",
      " 4   Bed        11280 non-null  float64\n",
      " 5   City       11280 non-null  object \n",
      " 6   Division   11280 non-null  object \n",
      "dtypes: float64(4), int64(1), object(2)\n",
      "memory usage: 617.0+ KB\n"
     ]
    }
   ],
   "source": [
    "df.info()"
   ]
  },
  {
   "cell_type": "code",
   "execution_count": 5,
   "id": "3ac85a61",
   "metadata": {},
   "outputs": [],
   "source": [
    "df['Size']= df['Size'].astype('int64')\n",
    "df['Bath'] = df['Bath'].astype('int64')\n",
    "df['Bed'] = df['Bed'].astype('int64')\n"
   ]
  },
  {
   "cell_type": "code",
   "execution_count": 6,
   "id": "39b31a31",
   "metadata": {},
   "outputs": [
    {
     "name": "stdout",
     "output_type": "stream",
     "text": [
      "<class 'pandas.core.frame.DataFrame'>\n",
      "RangeIndex: 11280 entries, 0 to 11279\n",
      "Data columns (total 7 columns):\n",
      " #   Column     Non-Null Count  Dtype \n",
      "---  ------     --------------  ----- \n",
      " 0   Price      11280 non-null  int64 \n",
      " 1   Prop_type  11280 non-null  int64 \n",
      " 2   Size       11280 non-null  int64 \n",
      " 3   Bath       11280 non-null  int64 \n",
      " 4   Bed        11280 non-null  int64 \n",
      " 5   City       11280 non-null  object\n",
      " 6   Division   11280 non-null  object\n",
      "dtypes: int64(5), object(2)\n",
      "memory usage: 617.0+ KB\n"
     ]
    },
    {
     "data": {
      "text/html": [
       "<div>\n",
       "<style scoped>\n",
       "    .dataframe tbody tr th:only-of-type {\n",
       "        vertical-align: middle;\n",
       "    }\n",
       "\n",
       "    .dataframe tbody tr th {\n",
       "        vertical-align: top;\n",
       "    }\n",
       "\n",
       "    .dataframe thead th {\n",
       "        text-align: right;\n",
       "    }\n",
       "</style>\n",
       "<table border=\"1\" class=\"dataframe\">\n",
       "  <thead>\n",
       "    <tr style=\"text-align: right;\">\n",
       "      <th></th>\n",
       "      <th>Price</th>\n",
       "      <th>Prop_type</th>\n",
       "      <th>Size</th>\n",
       "      <th>Bath</th>\n",
       "      <th>Bed</th>\n",
       "      <th>City</th>\n",
       "      <th>Division</th>\n",
       "    </tr>\n",
       "  </thead>\n",
       "  <tbody>\n",
       "    <tr>\n",
       "      <th>0</th>\n",
       "      <td>35000</td>\n",
       "      <td>1</td>\n",
       "      <td>233</td>\n",
       "      <td>4</td>\n",
       "      <td>4</td>\n",
       "      <td>Maia</td>\n",
       "      <td>Castêlo da Maia</td>\n",
       "    </tr>\n",
       "    <tr>\n",
       "      <th>1</th>\n",
       "      <td>9800</td>\n",
       "      <td>1</td>\n",
       "      <td>60</td>\n",
       "      <td>1</td>\n",
       "      <td>2</td>\n",
       "      <td>Paredes</td>\n",
       "      <td>Lordelo</td>\n",
       "    </tr>\n",
       "    <tr>\n",
       "      <th>2</th>\n",
       "      <td>30000</td>\n",
       "      <td>1</td>\n",
       "      <td>642</td>\n",
       "      <td>3</td>\n",
       "      <td>4</td>\n",
       "      <td>Felgueiras</td>\n",
       "      <td>Vila Fria e Vizela (São Jorge)</td>\n",
       "    </tr>\n",
       "    <tr>\n",
       "      <th>3</th>\n",
       "      <td>19990</td>\n",
       "      <td>1</td>\n",
       "      <td>188</td>\n",
       "      <td>3</td>\n",
       "      <td>3</td>\n",
       "      <td>Amarante</td>\n",
       "      <td>Telões</td>\n",
       "    </tr>\n",
       "    <tr>\n",
       "      <th>4</th>\n",
       "      <td>23500</td>\n",
       "      <td>1</td>\n",
       "      <td>200</td>\n",
       "      <td>2</td>\n",
       "      <td>3</td>\n",
       "      <td>Marco de Canaveses</td>\n",
       "      <td>Tabuado</td>\n",
       "    </tr>\n",
       "  </tbody>\n",
       "</table>\n",
       "</div>"
      ],
      "text/plain": [
       "   Price  Prop_type  Size  Bath  Bed                City  \\\n",
       "0  35000          1   233     4    4                Maia   \n",
       "1   9800          1    60     1    2             Paredes   \n",
       "2  30000          1   642     3    4          Felgueiras   \n",
       "3  19990          1   188     3    3            Amarante   \n",
       "4  23500          1   200     2    3  Marco de Canaveses   \n",
       "\n",
       "                            Division  \n",
       "0                  Castêlo da Maia    \n",
       "1                          Lordelo    \n",
       "2   Vila Fria e Vizela (São Jorge)    \n",
       "3                           Telões    \n",
       "4                          Tabuado    "
      ]
     },
     "execution_count": 6,
     "metadata": {},
     "output_type": "execute_result"
    }
   ],
   "source": [
    "df['Price'] = df['Price'].apply(lambda x: x/10)\n",
    "df['Price'] = df['Price'].astype('int64')\n",
    "\n",
    "df.info()\n",
    "df.describe()\n",
    "df.head()"
   ]
  },
  {
   "cell_type": "code",
   "execution_count": 7,
   "id": "f6145ad6",
   "metadata": {
    "scrolled": true
   },
   "outputs": [
    {
     "data": {
      "image/png": "[encoded data removed]",
      "text/plain": [
       "<Figure size 432x288 with 1 Axes>"
      ]
     },
     "metadata": {
      "needs_background": "light"
     },
     "output_type": "display_data"
    }
   ],
   "source": [
    "plt.hist(df['Price'], bins=50)\n",
    "plt.title('Histogram of Price')\n",
    "plt.xlabel('Price ( in thoushands )')\n",
    "plt.ylabel('Amount of properties')\n",
    "plt.show()"
   ]
  },
  {
   "cell_type": "code",
   "execution_count": 8,
   "id": "6ac58f35",
   "metadata": {},
   "outputs": [
    {
     "name": "stderr",
     "output_type": "stream",
     "text": [
      "C:\\Users\\roych\\anaconda3\\lib\\site-packages\\seaborn\\_decorators.py:36: FutureWarning: Pass the following variable as a keyword arg: x. From version 0.12, the only valid positional argument will be `data`, and passing other arguments without an explicit keyword will result in an error or misinterpretation.\n",
      "  warnings.warn(\n",
      "C:\\Users\\roych\\anaconda3\\lib\\site-packages\\seaborn\\_decorators.py:36: FutureWarning: Pass the following variable as a keyword arg: x. From version 0.12, the only valid positional argument will be `data`, and passing other arguments without an explicit keyword will result in an error or misinterpretation.\n",
      "  warnings.warn(\n",
      "C:\\Users\\roych\\anaconda3\\lib\\site-packages\\seaborn\\_decorators.py:36: FutureWarning: Pass the following variable as a keyword arg: x. From version 0.12, the only valid positional argument will be `data`, and passing other arguments without an explicit keyword will result in an error or misinterpretation.\n",
      "  warnings.warn(\n",
      "C:\\Users\\roych\\anaconda3\\lib\\site-packages\\seaborn\\_decorators.py:36: FutureWarning: Pass the following variable as a keyword arg: x. From version 0.12, the only valid positional argument will be `data`, and passing other arguments without an explicit keyword will result in an error or misinterpretation.\n",
      "  warnings.warn(\n"
     ]
    },
    {
     "data": {
      "image/png": "[encoded data removed]",
      "text/plain": [
       "<Figure size 720x360 with 4 Axes>"
      ]
     },
     "metadata": {
      "needs_background": "light"
     },
     "output_type": "display_data"
    }
   ],
   "source": [
    "# Outlier Analysis\n",
    "fig, axs = plt.subplots(2,2, figsize = (10,5))\n",
    "plt1 = sns.boxplot(df['Price'], ax = axs[0,0])\n",
    "plt2 = sns.boxplot(df['Size'], ax = axs[0,1])\n",
    "plt1 = sns.boxplot(df['Bath'], ax = axs[1,0])\n",
    "plt2 = sns.boxplot(df['Bed'], ax = axs[1,1])\n",
    "\n",
    "plt.tight_layout()\n",
    "\n"
   ]
  },
  {
   "cell_type": "code",
   "execution_count": 9,
   "id": "9ca94caf",
   "metadata": {
    "scrolled": false
   },
   "outputs": [
    {
     "data": {
      "text/plain": [
       "<AxesSubplot:xlabel='Size', ylabel='Price'>"
      ]
     },
     "execution_count": 9,
     "metadata": {},
     "output_type": "execute_result"
    },
    {
     "data": {
      "image/png": "[encoded data removed]",
      "text/plain": [
       "<Figure size 432x288 with 1 Axes>"
      ]
     },
     "metadata": {
      "needs_background": "light"
     },
     "output_type": "display_data"
    }
   ],
   "source": [
    "sns.scatterplot(x=df['Size'], y=df['Price'])\n"
   ]
  },
  {
   "cell_type": "code",
   "execution_count": 10,
   "id": "82a585d7",
   "metadata": {},
   "outputs": [
    {
     "data": {
      "text/plain": [
       "<seaborn.axisgrid.FacetGrid at 0x14d7ee00340>"
      ]
     },
     "execution_count": 10,
     "metadata": {},
     "output_type": "execute_result"
    },
    {
     "data": {
      "image/png": "[encoded data removed]",
      "text/plain": [
       "<Figure size 402.375x360 with 1 Axes>"
      ]
     },
     "metadata": {
      "needs_background": "light"
     },
     "output_type": "display_data"
    }
   ],
   "source": [
    "sns.relplot(\n",
    "    data=df, x=\"Size\", y=\"Price\",\n",
    "    size=\"Bed\", sizes=(30, 100)\n",
    ")"
   ]
  },
  {
   "cell_type": "code",
   "execution_count": 11,
   "id": "d116e149",
   "metadata": {
    "scrolled": false
   },
   "outputs": [
    {
     "data": {
      "text/plain": [
       "<seaborn.axisgrid.FacetGrid at 0x14d0002c460>"
      ]
     },
     "execution_count": 11,
     "metadata": {},
     "output_type": "execute_result"
    },
    {
     "data": {
      "image/png": "[encoded data removed]",
      "text/plain": [
       "<Figure size 762.375x360 with 2 Axes>"
      ]
     },
     "metadata": {
      "needs_background": "light"
     },
     "output_type": "display_data"
    }
   ],
   "source": [
    "#credit for the idea https://seaborn.pydata.org/tutorial/relational.html\n",
    "# Prop_type = 1 (houses) , Prop_type = 2 (apartments)\n",
    "sns.relplot(\n",
    "    data=df,\n",
    "    x=\"Price\", y=\"Size\", hue=\"Bed\", col=\"Prop_type\",\n",
    ")"
   ]
  },
  {
   "cell_type": "code",
   "execution_count": 12,
   "id": "748e1843",
   "metadata": {
    "scrolled": true
   },
   "outputs": [],
   "source": [
    "# bed and bath being zero\n",
    "#print(df['Bath'].value_counts()[0])\n",
    "#print(df['Bed'].value_counts()[0])\n",
    "\n"
   ]
  },
  {
   "cell_type": "code",
   "execution_count": 13,
   "id": "5654e771",
   "metadata": {},
   "outputs": [
    {
     "data": {
      "text/html": [
       "<div>\n",
       "<style scoped>\n",
       "    .dataframe tbody tr th:only-of-type {\n",
       "        vertical-align: middle;\n",
       "    }\n",
       "\n",
       "    .dataframe tbody tr th {\n",
       "        vertical-align: top;\n",
       "    }\n",
       "\n",
       "    .dataframe thead th {\n",
       "        text-align: right;\n",
       "    }\n",
       "</style>\n",
       "<table border=\"1\" class=\"dataframe\">\n",
       "  <thead>\n",
       "    <tr style=\"text-align: right;\">\n",
       "      <th></th>\n",
       "      <th>Price</th>\n",
       "      <th>Prop_type</th>\n",
       "      <th>Size</th>\n",
       "      <th>Bath</th>\n",
       "      <th>Bed</th>\n",
       "      <th>City</th>\n",
       "      <th>Division</th>\n",
       "    </tr>\n",
       "  </thead>\n",
       "  <tbody>\n",
       "    <tr>\n",
       "      <th>0</th>\n",
       "      <td>35000</td>\n",
       "      <td>1</td>\n",
       "      <td>233</td>\n",
       "      <td>4</td>\n",
       "      <td>4</td>\n",
       "      <td>Maia</td>\n",
       "      <td>Castêlo da Maia</td>\n",
       "    </tr>\n",
       "    <tr>\n",
       "      <th>1</th>\n",
       "      <td>9800</td>\n",
       "      <td>1</td>\n",
       "      <td>60</td>\n",
       "      <td>1</td>\n",
       "      <td>2</td>\n",
       "      <td>Paredes</td>\n",
       "      <td>Lordelo</td>\n",
       "    </tr>\n",
       "    <tr>\n",
       "      <th>2</th>\n",
       "      <td>30000</td>\n",
       "      <td>1</td>\n",
       "      <td>642</td>\n",
       "      <td>3</td>\n",
       "      <td>4</td>\n",
       "      <td>Felgueiras</td>\n",
       "      <td>Vila Fria e Vizela (São Jorge)</td>\n",
       "    </tr>\n",
       "    <tr>\n",
       "      <th>3</th>\n",
       "      <td>19990</td>\n",
       "      <td>1</td>\n",
       "      <td>188</td>\n",
       "      <td>3</td>\n",
       "      <td>3</td>\n",
       "      <td>Amarante</td>\n",
       "      <td>Telões</td>\n",
       "    </tr>\n",
       "    <tr>\n",
       "      <th>4</th>\n",
       "      <td>23500</td>\n",
       "      <td>1</td>\n",
       "      <td>200</td>\n",
       "      <td>2</td>\n",
       "      <td>3</td>\n",
       "      <td>Marco de Canaveses</td>\n",
       "      <td>Tabuado</td>\n",
       "    </tr>\n",
       "  </tbody>\n",
       "</table>\n",
       "</div>"
      ],
      "text/plain": [
       "   Price  Prop_type  Size  Bath  Bed                City  \\\n",
       "0  35000          1   233     4    4                Maia   \n",
       "1   9800          1    60     1    2             Paredes   \n",
       "2  30000          1   642     3    4          Felgueiras   \n",
       "3  19990          1   188     3    3            Amarante   \n",
       "4  23500          1   200     2    3  Marco de Canaveses   \n",
       "\n",
       "                            Division  \n",
       "0                  Castêlo da Maia    \n",
       "1                          Lordelo    \n",
       "2   Vila Fria e Vizela (São Jorge)    \n",
       "3                           Telões    \n",
       "4                          Tabuado    "
      ]
     },
     "execution_count": 13,
     "metadata": {},
     "output_type": "execute_result"
    }
   ],
   "source": [
    "df.head()"
   ]
  },
  {
   "cell_type": "code",
   "execution_count": 14,
   "id": "a4c193a1",
   "metadata": {},
   "outputs": [],
   "source": [
    "df2 = df.copy()\n"
   ]
  },
  {
   "cell_type": "code",
   "execution_count": 15,
   "id": "cffe5687",
   "metadata": {
    "scrolled": true
   },
   "outputs": [
    {
     "data": {
      "text/html": [
       "<div>\n",
       "<style scoped>\n",
       "    .dataframe tbody tr th:only-of-type {\n",
       "        vertical-align: middle;\n",
       "    }\n",
       "\n",
       "    .dataframe tbody tr th {\n",
       "        vertical-align: top;\n",
       "    }\n",
       "\n",
       "    .dataframe thead th {\n",
       "        text-align: right;\n",
       "    }\n",
       "</style>\n",
       "<table border=\"1\" class=\"dataframe\">\n",
       "  <thead>\n",
       "    <tr style=\"text-align: right;\">\n",
       "      <th></th>\n",
       "      <th>Price</th>\n",
       "      <th>Prop_type</th>\n",
       "      <th>Size</th>\n",
       "      <th>Bath</th>\n",
       "      <th>Bed</th>\n",
       "      <th>City</th>\n",
       "      <th>Division</th>\n",
       "    </tr>\n",
       "  </thead>\n",
       "  <tbody>\n",
       "    <tr>\n",
       "      <th>0</th>\n",
       "      <td>35000</td>\n",
       "      <td>1</td>\n",
       "      <td>233</td>\n",
       "      <td>4</td>\n",
       "      <td>4</td>\n",
       "      <td>Maia</td>\n",
       "      <td>Castêlo da Maia</td>\n",
       "    </tr>\n",
       "    <tr>\n",
       "      <th>1</th>\n",
       "      <td>9800</td>\n",
       "      <td>1</td>\n",
       "      <td>60</td>\n",
       "      <td>1</td>\n",
       "      <td>2</td>\n",
       "      <td>Paredes</td>\n",
       "      <td>Lordelo</td>\n",
       "    </tr>\n",
       "    <tr>\n",
       "      <th>2</th>\n",
       "      <td>30000</td>\n",
       "      <td>1</td>\n",
       "      <td>642</td>\n",
       "      <td>3</td>\n",
       "      <td>4</td>\n",
       "      <td>Felgueiras</td>\n",
       "      <td>Vila Fria e Vizela (São Jorge)</td>\n",
       "    </tr>\n",
       "    <tr>\n",
       "      <th>3</th>\n",
       "      <td>19990</td>\n",
       "      <td>1</td>\n",
       "      <td>188</td>\n",
       "      <td>3</td>\n",
       "      <td>3</td>\n",
       "      <td>Amarante</td>\n",
       "      <td>Telões</td>\n",
       "    </tr>\n",
       "    <tr>\n",
       "      <th>4</th>\n",
       "      <td>23500</td>\n",
       "      <td>1</td>\n",
       "      <td>200</td>\n",
       "      <td>2</td>\n",
       "      <td>3</td>\n",
       "      <td>Marco de Canaveses</td>\n",
       "      <td>Tabuado</td>\n",
       "    </tr>\n",
       "  </tbody>\n",
       "</table>\n",
       "</div>"
      ],
      "text/plain": [
       "   Price  Prop_type  Size  Bath  Bed                City  \\\n",
       "0  35000          1   233     4    4                Maia   \n",
       "1   9800          1    60     1    2             Paredes   \n",
       "2  30000          1   642     3    4          Felgueiras   \n",
       "3  19990          1   188     3    3            Amarante   \n",
       "4  23500          1   200     2    3  Marco de Canaveses   \n",
       "\n",
       "                            Division  \n",
       "0                  Castêlo da Maia    \n",
       "1                          Lordelo    \n",
       "2   Vila Fria e Vizela (São Jorge)    \n",
       "3                           Telões    \n",
       "4                          Tabuado    "
      ]
     },
     "execution_count": 15,
     "metadata": {},
     "output_type": "execute_result"
    }
   ],
   "source": [
    "df2.head()"
   ]
  },
  {
   "cell_type": "code",
   "execution_count": 16,
   "id": "6ab11826",
   "metadata": {},
   "outputs": [],
   "source": [
    "df2['Price'] = df2['Price'].apply(lambda x: x*100)\n",
    "df2['Price'] = df2['Price'].astype('int64')\n"
   ]
  },
  {
   "cell_type": "code",
   "execution_count": 17,
   "id": "7aaf3b29",
   "metadata": {},
   "outputs": [
    {
     "name": "stdout",
     "output_type": "stream",
     "text": [
      "<class 'pandas.core.frame.DataFrame'>\n",
      "RangeIndex: 11280 entries, 0 to 11279\n",
      "Data columns (total 7 columns):\n",
      " #   Column     Non-Null Count  Dtype \n",
      "---  ------     --------------  ----- \n",
      " 0   Price      11280 non-null  int64 \n",
      " 1   Prop_type  11280 non-null  int64 \n",
      " 2   Size       11280 non-null  int64 \n",
      " 3   Bath       11280 non-null  int64 \n",
      " 4   Bed        11280 non-null  int64 \n",
      " 5   City       11280 non-null  object\n",
      " 6   Division   11280 non-null  object\n",
      "dtypes: int64(5), object(2)\n",
      "memory usage: 617.0+ KB\n"
     ]
    }
   ],
   "source": [
    "df2.info()"
   ]
  },
  {
   "cell_type": "code",
   "execution_count": 18,
   "id": "c39ff3e9",
   "metadata": {},
   "outputs": [
    {
     "data": {
      "text/html": [
       "<div>\n",
       "<style scoped>\n",
       "    .dataframe tbody tr th:only-of-type {\n",
       "        vertical-align: middle;\n",
       "    }\n",
       "\n",
       "    .dataframe tbody tr th {\n",
       "        vertical-align: top;\n",
       "    }\n",
       "\n",
       "    .dataframe thead th {\n",
       "        text-align: right;\n",
       "    }\n",
       "</style>\n",
       "<table border=\"1\" class=\"dataframe\">\n",
       "  <thead>\n",
       "    <tr style=\"text-align: right;\">\n",
       "      <th></th>\n",
       "      <th>Price</th>\n",
       "      <th>Prop_type</th>\n",
       "      <th>Size</th>\n",
       "      <th>Bath</th>\n",
       "      <th>Bed</th>\n",
       "    </tr>\n",
       "  </thead>\n",
       "  <tbody>\n",
       "    <tr>\n",
       "      <th>count</th>\n",
       "      <td>1.128000e+04</td>\n",
       "      <td>11280.000000</td>\n",
       "      <td>11280.000000</td>\n",
       "      <td>11280.000000</td>\n",
       "      <td>11280.000000</td>\n",
       "    </tr>\n",
       "    <tr>\n",
       "      <th>mean</th>\n",
       "      <td>4.388949e+06</td>\n",
       "      <td>1.643617</td>\n",
       "      <td>174.596986</td>\n",
       "      <td>2.056915</td>\n",
       "      <td>2.707004</td>\n",
       "    </tr>\n",
       "    <tr>\n",
       "      <th>std</th>\n",
       "      <td>5.867964e+06</td>\n",
       "      <td>0.478951</td>\n",
       "      <td>363.515836</td>\n",
       "      <td>1.345048</td>\n",
       "      <td>1.207545</td>\n",
       "    </tr>\n",
       "    <tr>\n",
       "      <th>min</th>\n",
       "      <td>1.250000e+05</td>\n",
       "      <td>1.000000</td>\n",
       "      <td>22.000000</td>\n",
       "      <td>0.000000</td>\n",
       "      <td>0.000000</td>\n",
       "    </tr>\n",
       "    <tr>\n",
       "      <th>25%</th>\n",
       "      <td>1.790000e+06</td>\n",
       "      <td>1.000000</td>\n",
       "      <td>80.000000</td>\n",
       "      <td>1.000000</td>\n",
       "      <td>2.000000</td>\n",
       "    </tr>\n",
       "    <tr>\n",
       "      <th>50%</th>\n",
       "      <td>2.800000e+06</td>\n",
       "      <td>2.000000</td>\n",
       "      <td>120.000000</td>\n",
       "      <td>2.000000</td>\n",
       "      <td>3.000000</td>\n",
       "    </tr>\n",
       "    <tr>\n",
       "      <th>75%</th>\n",
       "      <td>4.805000e+06</td>\n",
       "      <td>2.000000</td>\n",
       "      <td>183.000000</td>\n",
       "      <td>3.000000</td>\n",
       "      <td>3.000000</td>\n",
       "    </tr>\n",
       "    <tr>\n",
       "      <th>max</th>\n",
       "      <td>4.500000e+07</td>\n",
       "      <td>2.000000</td>\n",
       "      <td>4422.000000</td>\n",
       "      <td>8.000000</td>\n",
       "      <td>7.000000</td>\n",
       "    </tr>\n",
       "  </tbody>\n",
       "</table>\n",
       "</div>"
      ],
      "text/plain": [
       "              Price     Prop_type          Size          Bath           Bed\n",
       "count  1.128000e+04  11280.000000  11280.000000  11280.000000  11280.000000\n",
       "mean   4.388949e+06      1.643617    174.596986      2.056915      2.707004\n",
       "std    5.867964e+06      0.478951    363.515836      1.345048      1.207545\n",
       "min    1.250000e+05      1.000000     22.000000      0.000000      0.000000\n",
       "25%    1.790000e+06      1.000000     80.000000      1.000000      2.000000\n",
       "50%    2.800000e+06      2.000000    120.000000      2.000000      3.000000\n",
       "75%    4.805000e+06      2.000000    183.000000      3.000000      3.000000\n",
       "max    4.500000e+07      2.000000   4422.000000      8.000000      7.000000"
      ]
     },
     "execution_count": 18,
     "metadata": {},
     "output_type": "execute_result"
    }
   ],
   "source": [
    "df2.describe()"
   ]
  },
  {
   "cell_type": "code",
   "execution_count": 19,
   "id": "e4614233",
   "metadata": {
    "scrolled": true
   },
   "outputs": [
    {
     "data": {
      "text/html": [
       "<div>\n",
       "<style scoped>\n",
       "    .dataframe tbody tr th:only-of-type {\n",
       "        vertical-align: middle;\n",
       "    }\n",
       "\n",
       "    .dataframe tbody tr th {\n",
       "        vertical-align: top;\n",
       "    }\n",
       "\n",
       "    .dataframe thead th {\n",
       "        text-align: right;\n",
       "    }\n",
       "</style>\n",
       "<table border=\"1\" class=\"dataframe\">\n",
       "  <thead>\n",
       "    <tr style=\"text-align: right;\">\n",
       "      <th></th>\n",
       "      <th>Price</th>\n",
       "      <th>Prop_type</th>\n",
       "      <th>Size</th>\n",
       "      <th>Bath</th>\n",
       "      <th>Bed</th>\n",
       "    </tr>\n",
       "  </thead>\n",
       "  <tbody>\n",
       "    <tr>\n",
       "      <th>count</th>\n",
       "      <td>1.025900e+04</td>\n",
       "      <td>10259.000000</td>\n",
       "      <td>10259.000000</td>\n",
       "      <td>10259.000000</td>\n",
       "      <td>10259.000000</td>\n",
       "    </tr>\n",
       "    <tr>\n",
       "      <th>mean</th>\n",
       "      <td>4.549832e+06</td>\n",
       "      <td>1.683595</td>\n",
       "      <td>179.088508</td>\n",
       "      <td>2.250609</td>\n",
       "      <td>2.788673</td>\n",
       "    </tr>\n",
       "    <tr>\n",
       "      <th>std</th>\n",
       "      <td>5.999464e+06</td>\n",
       "      <td>0.465096</td>\n",
       "      <td>378.925683</td>\n",
       "      <td>1.250957</td>\n",
       "      <td>1.101137</td>\n",
       "    </tr>\n",
       "    <tr>\n",
       "      <th>min</th>\n",
       "      <td>3.650000e+05</td>\n",
       "      <td>1.000000</td>\n",
       "      <td>37.000000</td>\n",
       "      <td>1.000000</td>\n",
       "      <td>1.000000</td>\n",
       "    </tr>\n",
       "    <tr>\n",
       "      <th>25%</th>\n",
       "      <td>1.850000e+06</td>\n",
       "      <td>1.000000</td>\n",
       "      <td>84.000000</td>\n",
       "      <td>1.000000</td>\n",
       "      <td>2.000000</td>\n",
       "    </tr>\n",
       "    <tr>\n",
       "      <th>50%</th>\n",
       "      <td>2.800000e+06</td>\n",
       "      <td>2.000000</td>\n",
       "      <td>121.000000</td>\n",
       "      <td>2.000000</td>\n",
       "      <td>3.000000</td>\n",
       "    </tr>\n",
       "    <tr>\n",
       "      <th>75%</th>\n",
       "      <td>4.900000e+06</td>\n",
       "      <td>2.000000</td>\n",
       "      <td>183.000000</td>\n",
       "      <td>3.000000</td>\n",
       "      <td>3.000000</td>\n",
       "    </tr>\n",
       "    <tr>\n",
       "      <th>max</th>\n",
       "      <td>4.500000e+07</td>\n",
       "      <td>2.000000</td>\n",
       "      <td>4422.000000</td>\n",
       "      <td>8.000000</td>\n",
       "      <td>7.000000</td>\n",
       "    </tr>\n",
       "  </tbody>\n",
       "</table>\n",
       "</div>"
      ],
      "text/plain": [
       "              Price     Prop_type          Size          Bath           Bed\n",
       "count  1.025900e+04  10259.000000  10259.000000  10259.000000  10259.000000\n",
       "mean   4.549832e+06      1.683595    179.088508      2.250609      2.788673\n",
       "std    5.999464e+06      0.465096    378.925683      1.250957      1.101137\n",
       "min    3.650000e+05      1.000000     37.000000      1.000000      1.000000\n",
       "25%    1.850000e+06      1.000000     84.000000      1.000000      2.000000\n",
       "50%    2.800000e+06      2.000000    121.000000      2.000000      3.000000\n",
       "75%    4.900000e+06      2.000000    183.000000      3.000000      3.000000\n",
       "max    4.500000e+07      2.000000   4422.000000      8.000000      7.000000"
      ]
     },
     "execution_count": 19,
     "metadata": {},
     "output_type": "execute_result"
    }
   ],
   "source": [
    "\n",
    "# drop rows with bath <0 and bed = 0\n",
    "df2.drop(df2[(df2.Bath ==0) | (df2.Bed ==0)].index, inplace=True)\n",
    "df2.drop(df2[df2.Bath < 0].index, inplace=True)\n",
    "df2.describe()\n",
    "\n"
   ]
  },
  {
   "cell_type": "code",
   "execution_count": 20,
   "id": "01ccb4d8",
   "metadata": {},
   "outputs": [
    {
     "name": "stderr",
     "output_type": "stream",
     "text": [
      "C:\\Users\\roych\\anaconda3\\lib\\site-packages\\seaborn\\_decorators.py:36: FutureWarning: Pass the following variable as a keyword arg: x. From version 0.12, the only valid positional argument will be `data`, and passing other arguments without an explicit keyword will result in an error or misinterpretation.\n",
      "  warnings.warn(\n",
      "C:\\Users\\roych\\anaconda3\\lib\\site-packages\\seaborn\\_decorators.py:36: FutureWarning: Pass the following variable as a keyword arg: x. From version 0.12, the only valid positional argument will be `data`, and passing other arguments without an explicit keyword will result in an error or misinterpretation.\n",
      "  warnings.warn(\n",
      "C:\\Users\\roych\\anaconda3\\lib\\site-packages\\seaborn\\_decorators.py:36: FutureWarning: Pass the following variable as a keyword arg: x. From version 0.12, the only valid positional argument will be `data`, and passing other arguments without an explicit keyword will result in an error or misinterpretation.\n",
      "  warnings.warn(\n",
      "C:\\Users\\roych\\anaconda3\\lib\\site-packages\\seaborn\\_decorators.py:36: FutureWarning: Pass the following variable as a keyword arg: x. From version 0.12, the only valid positional argument will be `data`, and passing other arguments without an explicit keyword will result in an error or misinterpretation.\n",
      "  warnings.warn(\n"
     ]
    },
    {
     "data": {
      "image/png": "[encoded data removed]",
      "text/plain": [
       "<Figure size 720x360 with 4 Axes>"
      ]
     },
     "metadata": {
      "needs_background": "light"
     },
     "output_type": "display_data"
    }
   ],
   "source": [
    "# Outlier Analysis\n",
    "fig, axs = plt.subplots(2,2, figsize = (10,5))\n",
    "plt1 = sns.boxplot(df2['Price'], ax = axs[0,0])\n",
    "plt2 = sns.boxplot(df2['Size'], ax = axs[0,1])\n",
    "plt1 = sns.boxplot(df2['Bath'], ax = axs[1,0])\n",
    "plt2 = sns.boxplot(df2['Bed'], ax = axs[1,1])\n",
    "\n",
    "plt.tight_layout()\n"
   ]
  },
  {
   "cell_type": "code",
   "execution_count": 21,
   "id": "27579fc8",
   "metadata": {
    "scrolled": false
   },
   "outputs": [
    {
     "name": "stderr",
     "output_type": "stream",
     "text": [
      "C:\\Users\\roych\\anaconda3\\lib\\site-packages\\seaborn\\distributions.py:2619: FutureWarning: `distplot` is a deprecated function and will be removed in a future version. Please adapt your code to use either `displot` (a figure-level function with similar flexibility) or `histplot` (an axes-level function for histograms).\n",
      "  warnings.warn(msg, FutureWarning)\n"
     ]
    },
    {
     "data": {
      "image/png": "[encoded data removed]",
      "text/plain": [
       "<Figure size 1080x360 with 3 Axes>"
      ]
     },
     "metadata": {
      "needs_background": "light"
     },
     "output_type": "display_data"
    }
   ],
   "source": [
    "# histogram and heat map\n",
    "corr = df2.corr()\n",
    "fig, axs = plt.subplots(1,2, figsize=[15,5])\n",
    "sns.distplot(df2['Price'], ax=axs[0])\n",
    "sns.heatmap(corr, ax=axs[1], annot=True)\n",
    "fig.tight_layout()\n",
    "\n"
   ]
  },
  {
   "cell_type": "code",
   "execution_count": 22,
   "id": "d2aca4cf",
   "metadata": {},
   "outputs": [
    {
     "data": {
      "text/html": [
       "<div>\n",
       "<style scoped>\n",
       "    .dataframe tbody tr th:only-of-type {\n",
       "        vertical-align: middle;\n",
       "    }\n",
       "\n",
       "    .dataframe tbody tr th {\n",
       "        vertical-align: top;\n",
       "    }\n",
       "\n",
       "    .dataframe thead th {\n",
       "        text-align: right;\n",
       "    }\n",
       "</style>\n",
       "<table border=\"1\" class=\"dataframe\">\n",
       "  <thead>\n",
       "    <tr style=\"text-align: right;\">\n",
       "      <th></th>\n",
       "      <th>Price</th>\n",
       "      <th>Prop_type</th>\n",
       "      <th>Size</th>\n",
       "      <th>Bath</th>\n",
       "      <th>Bed</th>\n",
       "    </tr>\n",
       "  </thead>\n",
       "  <tbody>\n",
       "    <tr>\n",
       "      <th>count</th>\n",
       "      <td>1.025900e+04</td>\n",
       "      <td>10259.000000</td>\n",
       "      <td>10259.000000</td>\n",
       "      <td>10259.000000</td>\n",
       "      <td>10259.000000</td>\n",
       "    </tr>\n",
       "    <tr>\n",
       "      <th>mean</th>\n",
       "      <td>4.549832e+06</td>\n",
       "      <td>1.683595</td>\n",
       "      <td>179.088508</td>\n",
       "      <td>2.250609</td>\n",
       "      <td>2.788673</td>\n",
       "    </tr>\n",
       "    <tr>\n",
       "      <th>std</th>\n",
       "      <td>5.999464e+06</td>\n",
       "      <td>0.465096</td>\n",
       "      <td>378.925683</td>\n",
       "      <td>1.250957</td>\n",
       "      <td>1.101137</td>\n",
       "    </tr>\n",
       "    <tr>\n",
       "      <th>min</th>\n",
       "      <td>3.650000e+05</td>\n",
       "      <td>1.000000</td>\n",
       "      <td>37.000000</td>\n",
       "      <td>1.000000</td>\n",
       "      <td>1.000000</td>\n",
       "    </tr>\n",
       "    <tr>\n",
       "      <th>25%</th>\n",
       "      <td>1.850000e+06</td>\n",
       "      <td>1.000000</td>\n",
       "      <td>84.000000</td>\n",
       "      <td>1.000000</td>\n",
       "      <td>2.000000</td>\n",
       "    </tr>\n",
       "    <tr>\n",
       "      <th>50%</th>\n",
       "      <td>2.800000e+06</td>\n",
       "      <td>2.000000</td>\n",
       "      <td>121.000000</td>\n",
       "      <td>2.000000</td>\n",
       "      <td>3.000000</td>\n",
       "    </tr>\n",
       "    <tr>\n",
       "      <th>75%</th>\n",
       "      <td>4.900000e+06</td>\n",
       "      <td>2.000000</td>\n",
       "      <td>183.000000</td>\n",
       "      <td>3.000000</td>\n",
       "      <td>3.000000</td>\n",
       "    </tr>\n",
       "    <tr>\n",
       "      <th>max</th>\n",
       "      <td>4.500000e+07</td>\n",
       "      <td>2.000000</td>\n",
       "      <td>4422.000000</td>\n",
       "      <td>8.000000</td>\n",
       "      <td>7.000000</td>\n",
       "    </tr>\n",
       "  </tbody>\n",
       "</table>\n",
       "</div>"
      ],
      "text/plain": [
       "              Price     Prop_type          Size          Bath           Bed\n",
       "count  1.025900e+04  10259.000000  10259.000000  10259.000000  10259.000000\n",
       "mean   4.549832e+06      1.683595    179.088508      2.250609      2.788673\n",
       "std    5.999464e+06      0.465096    378.925683      1.250957      1.101137\n",
       "min    3.650000e+05      1.000000     37.000000      1.000000      1.000000\n",
       "25%    1.850000e+06      1.000000     84.000000      1.000000      2.000000\n",
       "50%    2.800000e+06      2.000000    121.000000      2.000000      3.000000\n",
       "75%    4.900000e+06      2.000000    183.000000      3.000000      3.000000\n",
       "max    4.500000e+07      2.000000   4422.000000      8.000000      7.000000"
      ]
     },
     "execution_count": 22,
     "metadata": {},
     "output_type": "execute_result"
    }
   ],
   "source": [
    "#df2['Price'] = df2['Price'].apply(lambda x: x/100)\n",
    "#df2['Price'] = df2['Price'].astype('int64')\n",
    "df2.head()\n",
    "#df2.dtypes\n",
    "\n",
    "df2.describe()"
   ]
  },
  {
   "cell_type": "code",
   "execution_count": 23,
   "id": "ec53970a",
   "metadata": {},
   "outputs": [
    {
     "data": {
      "image/png": "[encoded data removed]",
      "text/plain": [
       "<Figure size 432x288 with 1 Axes>"
      ]
     },
     "metadata": {
      "needs_background": "light"
     },
     "output_type": "display_data"
    }
   ],
   "source": [
    "# outlier treatment for Price\n",
    "plt.boxplot(df2.Price)\n",
    "Q1 = df2.Price.quantile(0.25)\n",
    "Q3 = df2.Price.quantile(0.75)\n",
    "IQR = Q3 - Q1\n",
    "df2 = df2[(df2.Price >= Q1 - 1.5*IQR) & (df2.Price <= Q3 + 1.5*IQR)]\n",
    "\n"
   ]
  },
  {
   "cell_type": "code",
   "execution_count": 24,
   "id": "c0545328",
   "metadata": {},
   "outputs": [
    {
     "data": {
      "image/png": "[encoded data removed]",
      "text/plain": [
       "<Figure size 432x288 with 1 Axes>"
      ]
     },
     "metadata": {
      "needs_background": "light"
     },
     "output_type": "display_data"
    }
   ],
   "source": [
    "# outlier treatment for Size\n",
    "plt.boxplot(df2.Size)\n",
    "Q1 = df2.Size.quantile(0.25)\n",
    "Q3 = df2.Size.quantile(0.75)\n",
    "IQR = Q3 - Q1\n",
    "df2 = df2[(df2.Size >= Q1 - 1.5*IQR) & (df2.Size <= Q3 + 1.5*IQR)]"
   ]
  },
  {
   "cell_type": "code",
   "execution_count": 25,
   "id": "d5bf023e",
   "metadata": {},
   "outputs": [
    {
     "name": "stderr",
     "output_type": "stream",
     "text": [
      "C:\\Users\\roych\\anaconda3\\lib\\site-packages\\seaborn\\_decorators.py:36: FutureWarning: Pass the following variable as a keyword arg: x. From version 0.12, the only valid positional argument will be `data`, and passing other arguments without an explicit keyword will result in an error or misinterpretation.\n",
      "  warnings.warn(\n",
      "C:\\Users\\roych\\anaconda3\\lib\\site-packages\\seaborn\\_decorators.py:36: FutureWarning: Pass the following variable as a keyword arg: x. From version 0.12, the only valid positional argument will be `data`, and passing other arguments without an explicit keyword will result in an error or misinterpretation.\n",
      "  warnings.warn(\n",
      "C:\\Users\\roych\\anaconda3\\lib\\site-packages\\seaborn\\_decorators.py:36: FutureWarning: Pass the following variable as a keyword arg: x. From version 0.12, the only valid positional argument will be `data`, and passing other arguments without an explicit keyword will result in an error or misinterpretation.\n",
      "  warnings.warn(\n",
      "C:\\Users\\roych\\anaconda3\\lib\\site-packages\\seaborn\\_decorators.py:36: FutureWarning: Pass the following variable as a keyword arg: x. From version 0.12, the only valid positional argument will be `data`, and passing other arguments without an explicit keyword will result in an error or misinterpretation.\n",
      "  warnings.warn(\n"
     ]
    },
    {
     "data": {
      "image/png": "[encoded data removed]",
      "text/plain": [
       "<Figure size 720x360 with 4 Axes>"
      ]
     },
     "metadata": {
      "needs_background": "light"
     },
     "output_type": "display_data"
    }
   ],
   "source": [
    "# Outlier Analysis\n",
    "fig, axs = plt.subplots(2,2, figsize = (10,5))\n",
    "plt1 = sns.boxplot(df2['Price'], ax = axs[0,0])\n",
    "plt2 = sns.boxplot(df2['Size'], ax = axs[0,1])\n",
    "plt1 = sns.boxplot(df2['Bath'], ax = axs[1,0])\n",
    "plt2 = sns.boxplot(df2['Bed'], ax = axs[1,1])\n",
    "\n",
    "plt.tight_layout()\n",
    "\n"
   ]
  },
  {
   "cell_type": "code",
   "execution_count": 26,
   "id": "26c6a7bf",
   "metadata": {
    "scrolled": true
   },
   "outputs": [
    {
     "data": {
      "text/html": [
       "<div>\n",
       "<style scoped>\n",
       "    .dataframe tbody tr th:only-of-type {\n",
       "        vertical-align: middle;\n",
       "    }\n",
       "\n",
       "    .dataframe tbody tr th {\n",
       "        vertical-align: top;\n",
       "    }\n",
       "\n",
       "    .dataframe thead th {\n",
       "        text-align: right;\n",
       "    }\n",
       "</style>\n",
       "<table border=\"1\" class=\"dataframe\">\n",
       "  <thead>\n",
       "    <tr style=\"text-align: right;\">\n",
       "      <th></th>\n",
       "      <th>Price</th>\n",
       "      <th>Prop_type</th>\n",
       "      <th>Size</th>\n",
       "      <th>Bath</th>\n",
       "      <th>Bed</th>\n",
       "    </tr>\n",
       "  </thead>\n",
       "  <tbody>\n",
       "    <tr>\n",
       "      <th>count</th>\n",
       "      <td>9.047000e+03</td>\n",
       "      <td>9047.000000</td>\n",
       "      <td>9047.000000</td>\n",
       "      <td>9047.000000</td>\n",
       "      <td>9047.000000</td>\n",
       "    </tr>\n",
       "    <tr>\n",
       "      <th>mean</th>\n",
       "      <td>3.169624e+06</td>\n",
       "      <td>1.709517</td>\n",
       "      <td>121.816403</td>\n",
       "      <td>2.000884</td>\n",
       "      <td>2.616116</td>\n",
       "    </tr>\n",
       "    <tr>\n",
       "      <th>std</th>\n",
       "      <td>1.860555e+06</td>\n",
       "      <td>0.454010</td>\n",
       "      <td>54.381514</td>\n",
       "      <td>0.980238</td>\n",
       "      <td>0.965567</td>\n",
       "    </tr>\n",
       "    <tr>\n",
       "      <th>min</th>\n",
       "      <td>3.650000e+05</td>\n",
       "      <td>1.000000</td>\n",
       "      <td>37.000000</td>\n",
       "      <td>1.000000</td>\n",
       "      <td>1.000000</td>\n",
       "    </tr>\n",
       "    <tr>\n",
       "      <th>25%</th>\n",
       "      <td>1.800000e+06</td>\n",
       "      <td>1.000000</td>\n",
       "      <td>80.000000</td>\n",
       "      <td>1.000000</td>\n",
       "      <td>2.000000</td>\n",
       "    </tr>\n",
       "    <tr>\n",
       "      <th>50%</th>\n",
       "      <td>2.750000e+06</td>\n",
       "      <td>2.000000</td>\n",
       "      <td>114.000000</td>\n",
       "      <td>2.000000</td>\n",
       "      <td>3.000000</td>\n",
       "    </tr>\n",
       "    <tr>\n",
       "      <th>75%</th>\n",
       "      <td>4.190000e+06</td>\n",
       "      <td>2.000000</td>\n",
       "      <td>146.000000</td>\n",
       "      <td>2.000000</td>\n",
       "      <td>3.000000</td>\n",
       "    </tr>\n",
       "    <tr>\n",
       "      <th>max</th>\n",
       "      <td>9.000000e+06</td>\n",
       "      <td>2.000000</td>\n",
       "      <td>271.000000</td>\n",
       "      <td>8.000000</td>\n",
       "      <td>6.000000</td>\n",
       "    </tr>\n",
       "  </tbody>\n",
       "</table>\n",
       "</div>"
      ],
      "text/plain": [
       "              Price    Prop_type         Size         Bath          Bed\n",
       "count  9.047000e+03  9047.000000  9047.000000  9047.000000  9047.000000\n",
       "mean   3.169624e+06     1.709517   121.816403     2.000884     2.616116\n",
       "std    1.860555e+06     0.454010    54.381514     0.980238     0.965567\n",
       "min    3.650000e+05     1.000000    37.000000     1.000000     1.000000\n",
       "25%    1.800000e+06     1.000000    80.000000     1.000000     2.000000\n",
       "50%    2.750000e+06     2.000000   114.000000     2.000000     3.000000\n",
       "75%    4.190000e+06     2.000000   146.000000     2.000000     3.000000\n",
       "max    9.000000e+06     2.000000   271.000000     8.000000     6.000000"
      ]
     },
     "execution_count": 26,
     "metadata": {},
     "output_type": "execute_result"
    }
   ],
   "source": [
    "df2.describe()"
   ]
  },
  {
   "cell_type": "code",
   "execution_count": 27,
   "id": "3108d23e",
   "metadata": {
    "scrolled": true
   },
   "outputs": [
    {
     "data": {
      "text/html": [
       "<div>\n",
       "<style scoped>\n",
       "    .dataframe tbody tr th:only-of-type {\n",
       "        vertical-align: middle;\n",
       "    }\n",
       "\n",
       "    .dataframe tbody tr th {\n",
       "        vertical-align: top;\n",
       "    }\n",
       "\n",
       "    .dataframe thead th {\n",
       "        text-align: right;\n",
       "    }\n",
       "</style>\n",
       "<table border=\"1\" class=\"dataframe\">\n",
       "  <thead>\n",
       "    <tr style=\"text-align: right;\">\n",
       "      <th></th>\n",
       "      <th>Price</th>\n",
       "      <th>Prop_type</th>\n",
       "      <th>Size</th>\n",
       "      <th>Bath</th>\n",
       "      <th>Bed</th>\n",
       "    </tr>\n",
       "  </thead>\n",
       "  <tbody>\n",
       "    <tr>\n",
       "      <th>count</th>\n",
       "      <td>9.047000e+03</td>\n",
       "      <td>9047.000000</td>\n",
       "      <td>9047.000000</td>\n",
       "      <td>9047.000000</td>\n",
       "      <td>9047.000000</td>\n",
       "    </tr>\n",
       "    <tr>\n",
       "      <th>mean</th>\n",
       "      <td>3.169624e+06</td>\n",
       "      <td>1.709517</td>\n",
       "      <td>121.816403</td>\n",
       "      <td>2.000884</td>\n",
       "      <td>2.616116</td>\n",
       "    </tr>\n",
       "    <tr>\n",
       "      <th>std</th>\n",
       "      <td>1.860555e+06</td>\n",
       "      <td>0.454010</td>\n",
       "      <td>54.381514</td>\n",
       "      <td>0.980238</td>\n",
       "      <td>0.965567</td>\n",
       "    </tr>\n",
       "    <tr>\n",
       "      <th>min</th>\n",
       "      <td>3.650000e+05</td>\n",
       "      <td>1.000000</td>\n",
       "      <td>37.000000</td>\n",
       "      <td>1.000000</td>\n",
       "      <td>1.000000</td>\n",
       "    </tr>\n",
       "    <tr>\n",
       "      <th>25%</th>\n",
       "      <td>1.800000e+06</td>\n",
       "      <td>1.000000</td>\n",
       "      <td>80.000000</td>\n",
       "      <td>1.000000</td>\n",
       "      <td>2.000000</td>\n",
       "    </tr>\n",
       "    <tr>\n",
       "      <th>50%</th>\n",
       "      <td>2.750000e+06</td>\n",
       "      <td>2.000000</td>\n",
       "      <td>114.000000</td>\n",
       "      <td>2.000000</td>\n",
       "      <td>3.000000</td>\n",
       "    </tr>\n",
       "    <tr>\n",
       "      <th>75%</th>\n",
       "      <td>4.190000e+06</td>\n",
       "      <td>2.000000</td>\n",
       "      <td>146.000000</td>\n",
       "      <td>2.000000</td>\n",
       "      <td>3.000000</td>\n",
       "    </tr>\n",
       "    <tr>\n",
       "      <th>max</th>\n",
       "      <td>9.000000e+06</td>\n",
       "      <td>2.000000</td>\n",
       "      <td>271.000000</td>\n",
       "      <td>8.000000</td>\n",
       "      <td>6.000000</td>\n",
       "    </tr>\n",
       "  </tbody>\n",
       "</table>\n",
       "</div>"
      ],
      "text/plain": [
       "              Price    Prop_type         Size         Bath          Bed\n",
       "count  9.047000e+03  9047.000000  9047.000000  9047.000000  9047.000000\n",
       "mean   3.169624e+06     1.709517   121.816403     2.000884     2.616116\n",
       "std    1.860555e+06     0.454010    54.381514     0.980238     0.965567\n",
       "min    3.650000e+05     1.000000    37.000000     1.000000     1.000000\n",
       "25%    1.800000e+06     1.000000    80.000000     1.000000     2.000000\n",
       "50%    2.750000e+06     2.000000   114.000000     2.000000     3.000000\n",
       "75%    4.190000e+06     2.000000   146.000000     2.000000     3.000000\n",
       "max    9.000000e+06     2.000000   271.000000     8.000000     6.000000"
      ]
     },
     "execution_count": 27,
     "metadata": {},
     "output_type": "execute_result"
    }
   ],
   "source": [
    "df2.drop(df2[(df2.Size ==1)].index, inplace=True)\n",
    "df2.describe()\n",
    "\n"
   ]
  },
  {
   "cell_type": "code",
   "execution_count": 28,
   "id": "15a97205",
   "metadata": {},
   "outputs": [
    {
     "data": {
      "image/png": "[encoded data removed]",
      "text/plain": [
       "<Figure size 900x900 with 30 Axes>"
      ]
     },
     "metadata": {
      "needs_background": "light"
     },
     "output_type": "display_data"
    }
   ],
   "source": [
    "sns.pairplot(df2)\n",
    "plt.show()\n",
    "\n"
   ]
  },
  {
   "cell_type": "code",
   "execution_count": 29,
   "id": "ba2fafcb",
   "metadata": {},
   "outputs": [
    {
     "data": {
      "image/png": "[encoded data removed]",
      "text/plain": [
       "<Figure size 432x288 with 1 Axes>"
      ]
     },
     "metadata": {
      "needs_background": "light"
     },
     "output_type": "display_data"
    }
   ],
   "source": [
    "# Boxplot of Price by Property Type\n",
    "sns.boxplot(x=\"Prop_type\", y=\"Price\", data=df)\n",
    "plt.title('Price by Property Type')\n",
    "plt.show()"
   ]
  },
  {
   "cell_type": "code",
   "execution_count": 30,
   "id": "4a4a830e",
   "metadata": {},
   "outputs": [
    {
     "data": {
      "image/png": "[encoded data removed]",
      "text/plain": [
       "<Figure size 864x288 with 2 Axes>"
      ]
     },
     "metadata": {
      "needs_background": "light"
     },
     "output_type": "display_data"
    }
   ],
   "source": [
    "# Pairplot of Price by Size and Bath\n",
    "sns.pairplot(data=df, x_vars=['Size', 'Bath'], y_vars='Price', kind='reg', height=4, aspect=1.5)\n",
    "plt.title('Price by Size and Bath')\n",
    "plt.show()"
   ]
  },
  {
   "cell_type": "code",
   "execution_count": 31,
   "id": "6f171b56",
   "metadata": {},
   "outputs": [
    {
     "data": {
      "image/png": "[encoded data removed]",
      "text/plain": [
       "<Figure size 432x288 with 2 Axes>"
      ]
     },
     "metadata": {
      "needs_background": "light"
     },
     "output_type": "display_data"
    }
   ],
   "source": [
    "\n",
    "# Heatmap of correlation between variables\n",
    "sns.heatmap(df.corr(), cmap='Blues', annot=True)\n",
    "plt.title('Heatmap of Correlation')\n",
    "plt.show()"
   ]
  },
  {
   "cell_type": "code",
   "execution_count": 32,
   "id": "a3bce091",
   "metadata": {},
   "outputs": [],
   "source": [
    "df2.to_csv(r'dataset_after_eda.csv', index = False, header=True)"
   ]
  },
  {
   "cell_type": "code",
   "execution_count": null,
   "id": "1fbdd492",
   "metadata": {},
   "outputs": [],
   "source": []
  }
 ],
 "metadata": {
  "kernelspec": {
   "display_name": "Python 3 (ipykernel)",
   "language": "python",
   "name": "python3"
  },
  "language_info": {
   "codemirror_mode": {
    "name": "ipython",
    "version": 3
   },
   "file_extension": ".py",
   "mimetype": "text/x-python",
   "name": "python",
   "nbconvert_exporter": "python",
   "pygments_lexer": "ipython3",
   "version": "3.9.12"
  }
 },
 "nbformat": 4,
 "nbformat_minor": 5
}
